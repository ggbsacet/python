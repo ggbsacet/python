{
 "metadata": {
  "language_info": {
   "codemirror_mode": {
    "name": "ipython",
    "version": 3
   },
   "file_extension": ".py",
   "mimetype": "text/x-python",
   "name": "python",
   "nbconvert_exporter": "python",
   "pygments_lexer": "ipython3",
   "version": "3.7.6-final"
  },
  "orig_nbformat": 2,
  "kernelspec": {
   "name": "python_defaultSpec_1596879811050",
   "display_name": "Python 3.7.6 64-bit ('base': conda)"
  }
 },
 "nbformat": 4,
 "nbformat_minor": 2,
 "cells": [
  {
   "cell_type": "code",
   "execution_count": null,
   "metadata": {},
   "outputs": [],
   "source": [
    "# We will cover the following examples to learn pandas operaitons.\n",
    "# Importing the data from list\n",
    "# importing the data from csv\n",
    "# importing the data from csv with custom header list\n",
    "# Change the index of data frame\n",
    "# how to print the columns\n",
    "# Use some dataframe function like head(), info(), desc()\n",
    "# filter dataframe using list comprehension\n",
    "# Group by function, to sum or count\n",
    "# Merge, Append, Concat\n",
    "\n",
    "# Plot Histogram, box plot\n",
    "\n",
    "# -------------- Exercise for students --------------\n",
    "\n",
    "# fetch two or more columns \n",
    "# iloc and loc\n",
    "# apply function on specfic column and adda new column (lambda path : path.split('/')[1][:-2])\n",
    "# multiple condition filter\n"
   ]
  },
  {
   "cell_type": "code",
   "execution_count": null,
   "metadata": {},
   "outputs": [],
   "source": [
    "import pandas as pd"
   ]
  },
  {
   "cell_type": "code",
   "execution_count": null,
   "metadata": {},
   "outputs": [],
   "source": [
    "# importing the data from csv\n",
    "df = pd.read_csv('pandas-exercise.csv')\n",
    "df.head()"
   ]
  },
  {
   "cell_type": "code",
   "execution_count": null,
   "metadata": {},
   "outputs": [],
   "source": [
    "# importing the data from custom columns\n",
    "df = pd.read_csv('pandas-exercise.csv', names = ['id','dob', 'photo_taken', 'full_path', 'gender', 'name', 'face_location', 'face_score', 'second_face_score', 'celeb_names', 'celeb_id'])\n",
    "df.head()"
   ]
  },
  {
   "cell_type": "code",
   "execution_count": null,
   "metadata": {
    "tags": []
   },
   "outputs": [],
   "source": [
    "# importing the data with skipping top rows\n",
    "df = pd.read_csv('pandas-exercise.csv', names = ['id','dob', 'photo_taken', 'full_path', 'gender', 'name', 'face_location', 'face_score', 'second_face_score', 'celeb_names', 'celeb_id'], skiprows=1) # header=1)\n",
    "df.head()"
   ]
  },
  {
   "cell_type": "code",
   "execution_count": null,
   "metadata": {},
   "outputs": [],
   "source": [
    "# correcting index by deleting the column\n",
    "del(df['id'])\n",
    "df.head()"
   ]
  },
  {
   "cell_type": "code",
   "execution_count": null,
   "metadata": {
    "tags": []
   },
   "outputs": [],
   "source": [
    "# print the dataframe columns\n",
    "print(df.columns)"
   ]
  },
  {
   "cell_type": "code",
   "execution_count": null,
   "metadata": {},
   "outputs": [],
   "source": [
    "# importing the data for specific columns\n",
    "df = pd.read_csv('pandas-exercise.csv', usecols= ['dob', 'photo_taken', 'full_path', 'gender', 'name', 'face_score', 'second_face_score'])\n",
    "df.head()"
   ]
  },
  {
   "cell_type": "code",
   "execution_count": null,
   "metadata": {
    "tags": []
   },
   "outputs": [],
   "source": [
    "# # Some data frame functions \n",
    "# df.head()       # this will print the top 5 rows\n",
    "# df.head(8)      # this will print top 8 rows\n",
    "# df.tail()       # this will print last 5 rows\n",
    "# df.tail(100)    # this will print last 100 rows\n",
    "# df.info()       # this will print the data frame and columns informaiton\n",
    "# df.describe()   # this will print some statistical information about data in various columns"
   ]
  },
  {
   "cell_type": "code",
   "execution_count": null,
   "metadata": {},
   "outputs": [],
   "source": [
    "# Apply filters on data base columns\n",
    "df_gender = df[df['gender'] == 0]\n",
    "df_gender.head()"
   ]
  },
  {
   "cell_type": "code",
   "execution_count": null,
   "metadata": {},
   "outputs": [],
   "source": [
    "# Note: there were 9997 values in gender column, so get rows which are not 1 or 0\n",
    "df_gender = df[df['gender'].isna()]\n",
    "df_gender.head()"
   ]
  },
  {
   "cell_type": "code",
   "execution_count": null,
   "metadata": {},
   "outputs": [],
   "source": [
    "# Count of unique values in columns\n",
    "df['gender'].value_counts()"
   ]
  },
  {
   "cell_type": "markdown",
   "metadata": {},
   "source": [
    "# Merge, Append and Concat"
   ]
  },
  {
   "cell_type": "code",
   "execution_count": null,
   "metadata": {},
   "outputs": [],
   "source": [
    "# Lets crete a unique column for each row in dataframe\n",
    "df['id'] = df.index"
   ]
  },
  {
   "cell_type": "code",
   "execution_count": null,
   "metadata": {},
   "outputs": [],
   "source": [
    " # split the dataframe newteen two columns group\n",
    " first = df[['id','dob', 'photo_taken', 'full_path']]\n",
    " second = df[['id', 'gender', 'name']] "
   ]
  },
  {
   "cell_type": "code",
   "execution_count": null,
   "metadata": {},
   "outputs": [],
   "source": [
    "# first.head()\n",
    "# second.head()"
   ]
  },
  {
   "cell_type": "code",
   "execution_count": null,
   "metadata": {},
   "outputs": [],
   "source": [
    "# Merge\n",
    "third = first.merge(second, on='id')\n",
    "third.head(2)"
   ]
  },
  {
   "cell_type": "code",
   "execution_count": null,
   "metadata": {},
   "outputs": [],
   "source": [
    "# Concate\n",
    "fourth = pd.concat([first, second])\n",
    "fourth.shape        # Run it first then check the shape. But we are expecting only 10k rows. Wrong ??"
   ]
  },
  {
   "cell_type": "code",
   "execution_count": null,
   "metadata": {},
   "outputs": [],
   "source": [
    "fourth = pd.concat([first, second], axis=1)\n",
    "fourth.head()"
   ]
  },
  {
   "cell_type": "code",
   "execution_count": null,
   "metadata": {},
   "outputs": [],
   "source": [
    "del(fourth['id'])"
   ]
  },
  {
   "cell_type": "code",
   "execution_count": null,
   "metadata": {},
   "outputs": [],
   "source": [
    "# Remove duplicate columns \n",
    "five = fourth.loc[:, ~fourth.columns.duplicated()]\n",
    "fourth.head()"
   ]
  },
  {
   "cell_type": "code",
   "execution_count": null,
   "metadata": {},
   "outputs": [],
   "source": [
    "# Append\n",
    "first = df.head(100)\n",
    "second = df.tail(50)\n",
    "\n",
    "third = first.append(second)\n",
    "third.shape"
   ]
  },
  {
   "cell_type": "code",
   "execution_count": null,
   "metadata": {
    "tags": []
   },
   "outputs": [],
   "source": [
    "# Some polt examples with pandas\n",
    "import numpy as np\n",
    "gender = df[~df['gender'].isna()]\n",
    "gender['gender'] = gender['gender'].apply(lambda x : int(x))\n",
    "# gender.head(100).plot(kind='scatter', y = 'photo_taken', x = 'gender')"
   ]
  },
  {
   "cell_type": "markdown",
   "metadata": {},
   "source": [
    "# -------------- Exercise for group  --------------\n",
    "\n",
    "## fetch two or more columns \n",
    "## iloc and loc\n",
    "## apply function on dob column and adda new column with birth year (lambda x : x.split('/')[1][:-2])\n",
    "## multiple condition filter - fetch records age between 20 and 30 and gender = 1\n",
    "## Fetch filename only into new column from full_path column\n"
   ]
  },
  {
   "cell_type": "code",
   "execution_count": null,
   "metadata": {},
   "outputs": [],
   "source": [
    "import pandas as pd\n",
    "import seaborn as sns\n",
    "import warnings\n",
    "warnings.filterwarnings('ignore')"
   ]
  },
  {
   "cell_type": "code",
   "execution_count": null,
   "metadata": {},
   "outputs": [],
   "source": [
    "data = pd.read_csv('iris.csv', header=0)"
   ]
  },
  {
   "cell_type": "code",
   "execution_count": null,
   "metadata": {},
   "outputs": [],
   "source": [
    "data.head()"
   ]
  },
  {
   "cell_type": "code",
   "execution_count": null,
   "metadata": {},
   "outputs": [],
   "source": [
    "sns.pairplot(data)\n"
   ]
  },
  {
   "cell_type": "code",
   "execution_count": null,
   "metadata": {},
   "outputs": [],
   "source": [
    "sns.pairplot(data, hue=\"class\")"
   ]
  },
  {
   "cell_type": "code",
   "execution_count": null,
   "metadata": {},
   "outputs": [],
   "source": [
    "import matplotlib.pyplot as plt\n",
    "sns.distplot(data.sepal_length, hist=False)\n",
    "sns.distplot(data.sepal_width)\n",
    "plt.show"
   ]
  },
  {
   "cell_type": "code",
   "execution_count": null,
   "metadata": {},
   "outputs": [],
   "source": [
    "import numpy as np\n",
    "np.std(data.sepal_length)"
   ]
  },
  {
   "cell_type": "code",
   "execution_count": null,
   "metadata": {},
   "outputs": [],
   "source": [
    "df.head()"
   ]
  },
  {
   "cell_type": "code",
   "execution_count": null,
   "metadata": {},
   "outputs": [],
   "source": [
    "import datetime\n",
    "\n",
    "def extract_birth_year(value):\n",
    "    return datetime.date.fromordinal(value).year"
   ]
  },
  {
   "cell_type": "code",
   "execution_count": null,
   "metadata": {},
   "outputs": [],
   "source": [
    "df['year'] = df.dob.apply(extract_birth_year)"
   ]
  },
  {
   "cell_type": "code",
   "execution_count": null,
   "metadata": {},
   "outputs": [],
   "source": []
  }
 ]
}