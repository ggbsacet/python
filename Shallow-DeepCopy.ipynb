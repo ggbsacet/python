{
 "metadata": {
  "language_info": {
   "codemirror_mode": {
    "name": "ipython",
    "version": 3
   },
   "file_extension": ".py",
   "mimetype": "text/x-python",
   "name": "python",
   "nbconvert_exporter": "python",
   "pygments_lexer": "ipython3",
   "version": 3
  },
  "orig_nbformat": 2,
  "kernelspec": {
   "name": "python_defaultSpec_1595688456539",
   "display_name": "Python 3.7.7 64-bit ('gpu-env': conda)"
  }
 },
 "nbformat": 4,
 "nbformat_minor": 2,
 "cells": [
  {
   "cell_type": "markdown",
   "metadata": {},
   "source": [
    "## Generally, we use = (equal) operator to copy the contents or values of one variable to another.\n",
    "\n",
    "### For example, we have two lists a and b"
   ]
  },
  {
   "cell_type": "code",
   "execution_count": 11,
   "metadata": {
    "tags": []
   },
   "outputs": [
    {
     "output_type": "stream",
     "name": "stdout",
     "text": "a =  [[1, 2, 3], [4, 5, 6]]\nb =  [[1, 2, 3], [4, 5, 6]]\n"
    }
   ],
   "source": [
    "a = [[1,2,3], [4,5,6]]\n",
    "b = a       #copying everything from a to b\n",
    "\n",
    "# Now, if we print a and b, they must have the same values producing the same output\n",
    "print(\"a = \", a)\n",
    "print(\"b = \", b)"
   ]
  },
  {
   "cell_type": "markdown",
   "metadata": {},
   "source": [
    "## Now you would know, to store everything, we need a memory address in computer memory. and by creating a copy (by above method)we expect to have one memory addresses occupied by each list a and b."
   ]
  },
  {
   "cell_type": "markdown",
   "metadata": {},
   "source": [
    "## But in reality, they both are reffering the same memory address. It means, if you change anything in a would reflect to b and vice-versa."
   ]
  },
  {
   "cell_type": "code",
   "execution_count": 12,
   "metadata": {
    "tags": []
   },
   "outputs": [
    {
     "output_type": "stream",
     "name": "stdout",
     "text": "a =  [[1, 2, 3], [4, 5, 6]] memory is : 2678792327560\nb =  [[1, 2, 3], [4, 5, 6]] memory is : 2678792327560\n"
    }
   ],
   "source": [
    "#Print addresses\n",
    "\n",
    "print(\"a = \", a, \"memory is :\", id(a))\n",
    "print(\"b = \", b, \"memory is :\",id(b))"
   ]
  },
  {
   "cell_type": "code",
   "execution_count": 13,
   "metadata": {
    "tags": []
   },
   "outputs": [
    {
     "output_type": "stream",
     "name": "stdout",
     "text": "a =  [[1, 2, 3], [4, 5, 6], [7, 8]]\nb =  [[1, 2, 3], [4, 5, 6], [7, 8]]\n"
    }
   ],
   "source": [
    "# Trying to change (appennd) a and it should reflect in b\n",
    "a.append([7,8])\n",
    "\n",
    "print(\"a = \", a)\n",
    "print(\"b = \", b)"
   ]
  },
  {
   "cell_type": "code",
   "execution_count": 14,
   "metadata": {
    "tags": []
   },
   "outputs": [
    {
     "output_type": "stream",
     "name": "stdout",
     "text": "a =  [[1, 2, 3], [4, 5, 6], [7, 8], [9, 10]]\nb =  [[1, 2, 3], [4, 5, 6], [7, 8], [9, 10]]\n"
    }
   ],
   "source": [
    "# Trying to change (appennd) a and it should reflect in b\n",
    "b.append([9,10])\n",
    "\n",
    "print(\"a = \", a)\n",
    "print(\"b = \", b)"
   ]
  },
  {
   "cell_type": "markdown",
   "metadata": {},
   "source": [
    "## Got the idea? This is happening becuase both a and b are refeering to same memory address. This is very general."
   ]
  },
  {
   "cell_type": "code",
   "execution_count": null,
   "metadata": {},
   "outputs": [],
   "source": []
  },
  {
   "cell_type": "markdown",
   "metadata": {},
   "source": [
    "## Shallow Copy - We craete copy of an object in a way that -\n",
    "###                  1) both variables or objects have different memory objects\n",
    "###                  2) any new addition to original object a will not reflect in object b\n",
    "###                  3) any changes (update, delete) in object a will reflect in object b and vice-versa of the content copy was made for"
   ]
  },
  {
   "cell_type": "code",
   "execution_count": 22,
   "metadata": {
    "tags": []
   },
   "outputs": [
    {
     "output_type": "stream",
     "name": "stdout",
     "text": "a =  [[1, 2, 3], [4, 5, 6]] memory is : 2678788782344\nb =  [[1, 2, 3], [4, 5, 6]] memory is : 2678789872968\n"
    }
   ],
   "source": [
    "import copy\n",
    "\n",
    "a = [[1,2,3], [4,5,6]]\n",
    "b  = copy.copy(a)\n",
    "\n",
    "print(\"a = \", a, \"memory is :\", id(a))\n",
    "print(\"b = \", b, \"memory is :\",id(b))"
   ]
  },
  {
   "cell_type": "code",
   "execution_count": 23,
   "metadata": {
    "tags": []
   },
   "outputs": [
    {
     "output_type": "stream",
     "name": "stdout",
     "text": "a =  [[1, 2, 3], [4, 5, 6], [7, 8]]\nb =  [[1, 2, 3], [4, 5, 6]]\n"
    }
   ],
   "source": [
    "a.append([7,8])\n",
    "\n",
    "print(\"a = \", a)\n",
    "print(\"b = \", b)"
   ]
  },
  {
   "cell_type": "code",
   "execution_count": 24,
   "metadata": {
    "tags": []
   },
   "outputs": [
    {
     "output_type": "stream",
     "name": "stdout",
     "text": "a =  [['Hello A', 2, 3], [4, 5, 6], [7, 8]]\nb =  [['Hello A', 2, 3], [4, 5, 6]]\n"
    }
   ],
   "source": [
    "a[0][0] = \"Hello A\"\n",
    "\n",
    "print(\"a = \", a)\n",
    "print(\"b = \", b)"
   ]
  },
  {
   "cell_type": "code",
   "execution_count": 25,
   "metadata": {
    "tags": []
   },
   "outputs": [
    {
     "output_type": "stream",
     "name": "stdout",
     "text": "a =  [['Hello A', 'Hello B', 3], [4, 5, 6], [7, 8]]\nb =  [['Hello A', 'Hello B', 3], [4, 5, 6]]\n"
    }
   ],
   "source": [
    "b[0][1] = \"Hello B\"\n",
    "\n",
    "print(\"a = \", a)\n",
    "print(\"b = \", b)"
   ]
  },
  {
   "cell_type": "code",
   "execution_count": 26,
   "metadata": {
    "tags": []
   },
   "outputs": [
    {
     "output_type": "stream",
     "name": "stdout",
     "text": "a =  [['Hello A', 'Hello B', 3], [4, 6], [7, 8]]\nb =  [['Hello A', 'Hello B', 3], [4, 6]]\n"
    }
   ],
   "source": [
    "del(a[1][1])\n",
    "\n",
    "print(\"a = \", a)\n",
    "print(\"b = \", b)"
   ]
  },
  {
   "cell_type": "code",
   "execution_count": null,
   "metadata": {},
   "outputs": [],
   "source": []
  },
  {
   "cell_type": "markdown",
   "metadata": {},
   "source": [
    "## Deep Copy - We craete copy of an object in a way that -\n",
    "###  1) both variables or objects have different memory objects\n",
    "###  2) any changes (addition, update, delete) in object a will not reflect in object b and vice-versa of the content copy was made for"
   ]
  },
  {
   "cell_type": "code",
   "execution_count": 28,
   "metadata": {
    "tags": []
   },
   "outputs": [
    {
     "output_type": "stream",
     "name": "stdout",
     "text": "a =  [[1, 2, 3], [4, 5, 6]] memory is : 2678788654984\nb =  [[1, 2, 3], [4, 5, 6]] memory is : 2678780623688\n"
    }
   ],
   "source": [
    "import copy\n",
    "\n",
    "a = [[1,2,3], [4,5,6]]\n",
    "b  = copy.deepcopy(a)\n",
    "\n",
    "print(\"a = \", a, \"memory is :\", id(a))\n",
    "print(\"b = \", b, \"memory is :\",id(b))"
   ]
  },
  {
   "cell_type": "code",
   "execution_count": 29,
   "metadata": {
    "tags": []
   },
   "outputs": [
    {
     "output_type": "stream",
     "name": "stdout",
     "text": "a =  [[1, 2, 3], [4, 5, 6], [7, 8]]\nb =  [[1, 2, 3], [4, 5, 6]]\n"
    }
   ],
   "source": [
    "a.append([7,8])\n",
    "\n",
    "print(\"a = \", a)\n",
    "print(\"b = \", b)"
   ]
  },
  {
   "cell_type": "code",
   "execution_count": 30,
   "metadata": {
    "tags": []
   },
   "outputs": [
    {
     "output_type": "stream",
     "name": "stdout",
     "text": "a =  [['Hello A', 2, 3], [4, 5, 6], [7, 8]]\nb =  [[1, 2, 3], [4, 5, 6]]\n"
    }
   ],
   "source": [
    "a[0][0] = \"Hello A\"\n",
    "\n",
    "print(\"a = \", a)\n",
    "print(\"b = \", b)"
   ]
  },
  {
   "cell_type": "code",
   "execution_count": 31,
   "metadata": {
    "tags": []
   },
   "outputs": [
    {
     "output_type": "stream",
     "name": "stdout",
     "text": "a =  [['Hello A', 2, 3], [4, 5, 6], [7, 8]]\nb =  [[1, 'Hello B', 3], [4, 5, 6]]\n"
    }
   ],
   "source": [
    "b[0][1] = \"Hello B\"\n",
    "\n",
    "print(\"a = \", a)\n",
    "print(\"b = \", b)"
   ]
  },
  {
   "cell_type": "code",
   "execution_count": 32,
   "metadata": {
    "tags": []
   },
   "outputs": [
    {
     "output_type": "stream",
     "name": "stdout",
     "text": "a =  [['Hello A', 2, 3], [4, 6], [7, 8]]\nb =  [[1, 'Hello B', 3], [4, 5, 6]]\n"
    }
   ],
   "source": [
    "del(a[1][1])\n",
    "\n",
    "print(\"a = \", a)\n",
    "print(\"b = \", b)"
   ]
  },
  {
   "cell_type": "code",
   "execution_count": null,
   "metadata": {},
   "outputs": [],
   "source": []
  }
 ]
}